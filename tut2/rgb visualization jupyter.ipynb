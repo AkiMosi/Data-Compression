{
 "cells": [
  {
   "cell_type": "code",
   "execution_count": null,
   "metadata": {
    "collapsed": true
   },
   "outputs": [],
   "source": [
    "from PIL import Image\n",
    "import numpy as np\n",
    "import matplotlib.pyplot as plt\n",
    "from mpl_toolkits.mplot3d import Axes3D\n",
    "\n",
    "fig = plt.figure()\n",
    "ax = plt.axes(projection=\"3d\")\n",
    "\n",
    "im = Image.open(\"image.jpg\")\n",
    "im = im.resize((288,180))\n",
    "pixelmap = im.load()\n",
    "x,y,z = [],[],[]\n",
    "for i in range(288):\n",
    "    for j in range(180):\n",
    "        x.append(pixelmap[i,j][0])\n",
    "        y.append(pixelmap[i,j][1])\n",
    "        z.append(pixelmap[i,j][2])\n",
    "\n",
    "tempmap = [x,y,z]\n",
    "tempmap = np.array(tempmap).transpose()\n",
    "\n",
    "plt.subplot(3,1,1)\n",
    "ax.scatter3D(x,y,z,cmap = 'hsv',c = x)\n",
    "\n",
    "plt\n",
    "plt.show()"
   ]
  }
 ],
 "metadata": {
  "kernelspec": {
   "display_name": "Python 3",
   "language": "python",
   "name": "python3"
  },
  "language_info": {
   "codemirror_mode": {
    "name": "ipython",
    "version": 3
   },
   "file_extension": ".py",
   "mimetype": "text/x-python",
   "name": "python",
   "nbconvert_exporter": "python",
   "pygments_lexer": "ipython3",
   "version": "3.6.3"
  }
 },
 "nbformat": 4,
 "nbformat_minor": 2
}
